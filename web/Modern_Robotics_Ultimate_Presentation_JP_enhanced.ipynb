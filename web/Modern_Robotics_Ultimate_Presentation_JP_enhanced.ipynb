{
 "cells": [
  {
   "cell_type": "markdown",
   "id": "44e4208d",
   "metadata": {
    "slideshow": {
     "slide_type": "slide"
    }
   },
   "source": [
    "# **Modern Robotics — 本編（強化版）**\n",
    "**理論から実装、そして統合へ**  \n",
    "*Consolidated & curated from [Modern Robotics](https://hades.mech.northwestern.edu/index.php/Modern_Robotics) / [Coursera](https://www.coursera.org/specializations/modernrobotics)*\n",
    "\n",
    "- 作成日：2025-09-25\n",
    "- 形式：Jupyter Notebook（スライド対応；`View > Cell Toolbar > Slideshow`）\n",
    "- 使い方：上部メニューの **Cell > Run All** で一括実行できます（グラフはmatplotlibで描画）\n",
    "\n",
    "> 本ノートブックは *Modern_Robotics_Ultimate_Presentation_JP* をベースに、**本編の解説を拡張**した強化版です。\n"
   ]
  },
  {
   "cell_type": "markdown",
   "id": "8236857b",
   "metadata": {
    "slideshow": {
     "slide_type": "subslide"
    }
   },
   "source": [
    "## 📚 Modern Roboticsについて（要旨）\n",
    "- **現代スクリュー理論**と**積指数（Product of Exponentials; PoE）**で、剛体運動・速度・力を**一貫表現**  \n",
    "- **Lie群/代数**（SO(3), SE(3), so(3), se(3)）に基づく**グローバルで安定**な運動学・動力学処理  \n",
    "- **実装フレンドリー**：ホーム姿勢 $M$ と各関節のスクリュー軸 $\\mathcal{S}_i$ が分かれば順運動学は1行\n"
   ]
  },
  {
   "cell_type": "markdown",
   "id": "7ef7ba04",
   "metadata": {
    "slideshow": {
     "slide_type": "subslide"
    }
   },
   "source": [
    "## アジェンダ（本編）\n",
    "1. なぜ **Modern Robotics** か — PoEとスクリュー理論の価値  \n",
    "2. 配置空間と自由度（Grüblerの公式）  \n",
    "3. 剛体運動と $\\mathrm{SE}(3)$・ツイスト  \n",
    "4. 順運動学（PoE）ミニデモ  \n",
    "5. ヤコビアンと操作性（2R）  \n",
    "6. 逆運動学（数値法）  \n",
    "7. ダイナミクスの見取り図と **Feedforward + PI**  \n",
    "8. 軌道生成：パス＋時間スケーリング（3次 vs 5次）  \n",
    "9. 動作計画（C空間）  \n",
    "10. マニピュレーション：摩擦円錐とレンチ幾何  \n",
    "11. 車輪移動：差動駆動の可到達速度集合  \n",
    "12. Capstone統合（youBot）— 実装ロードマップ\n"
   ]
  },
  {
   "cell_type": "markdown",
   "id": "60bc469a",
   "metadata": {
    "slideshow": {
     "slide_type": "slide"
    }
   },
   "source": [
    "# 1. なぜ Modern Robotics か（PoE アプローチ）\n",
    "**Product of Exponentials (PoE)** により、各関節のスクリュー軸 $\\mathcal{S}_i$ と角度 $\\theta_i$ を用いて\n",
    "\\[\n",
    "T(\\boldsymbol\\theta)= e^{[\\mathcal{S}_1]\\theta_1}\\, e^{[\\mathcal{S}_2]\\theta_2}\\cdots e^{[\\mathcal{S}_n]\\theta_n}\\, M\n",
    "\\]\n",
    "と**一行で順運動学**を表現できます。D-H表に比べ、**特異性の扱い・速度/力の統一・フレームの選択自由度**に優れ、実装がシンプルです。\n",
    "\n",
    "### 🔎 追加解説：**Twist（ツイスト）**とは？\n",
    "- **定義**：剛体の**瞬間運動**を表す6次元ベクトル $\\mathbf{V} = (\\boldsymbol\\omega,\\mathbf{v}) \\in \\mathbb{R}^6$  \n",
    "  - $\\boldsymbol\\omega$：角速度（回転軸と角速度の大きさ）  \n",
    "  - $\\mathbf{v}$：並進の速度成分（スクリュー軸に依存）  \n",
    "- **幾何学的意味**：任意の剛体運動は「**スクリュー運動**」＝ある軸まわりの回転＋同軸方向の並進に分解可能（ネジの動き）。  \n",
    "- **座標系**：**空間ツイスト**（基準座標系S表現）と**ボディツイスト**（手先座標系B表現）を使い分け。両者は**随伴（Adjoint）変換**で相互変換。\n",
    "\n",
    "### 🔧 追加解説：**Skew（歪対称）演算子**・ハット/ブイ\n",
    "- 3次元ベクトル $\\mathbf{a}\\in\\mathbb{R}^3$ に対し、\n",
    "  \\[ [\\mathbf{a}]_\\times=\\begin{bmatrix}0&-a_z&a_y\\\\ a_z&0&-a_x\\\\-a_y&a_x&0\\end{bmatrix},\\quad [\\mathbf{a}]_\\times \\mathbf{b}=\\mathbf{a}\\times\\mathbf{b} \\]\n",
    "- **hat（ハット）**：$\\widehat{\\boldsymbol\\omega}=[\\boldsymbol\\omega]_\\times$、$\\widehat{\\mathcal{S}}=\\begin{bmatrix}[\\boldsymbol\\omega]_\\times&\\mathbf{v}\\\\ \\mathbf{0}^\\top&0\\end{bmatrix}\\in\\mathfrak{se}(3)$  \n",
    "- **vee（ブイ）**：行列 $\\widehat{\\mathcal{S}}$ をベクトル $\\mathcal{S}$ に戻す写像（$\\vee$）。  \n",
    "- **指数写像**：$R=\\exp([\\hat\\omega]\\theta)$、$T=\\exp([\\widehat{\\mathcal{S}}]\\theta)$。\n",
    "\n",
    "### 🆚 **PoE vs D-H表**（比較まとめ）\n",
    "| 観点 | **PoE（積指数）** | **D-Hパラメータ** |\n",
    "|---|---|---|\n",
    "| 記述の基本 | スクリュー軸 $\\mathcal{S}$ と $M$ | 各リンクに座標系を割当て、4パラメータで隣接変換 |\n",
    "| 幾何直感 | 軸・ねじ運動で直感的 | 座標系配置の作法依存・直感が薄れやすい |\n",
    "| 特異性の扱い | Lie群上の指数写像で**安定** | 座標系配置次第で**煩雑**になりやすい |\n",
    "| 速度/力 | ツイスト＆レンチで**統一**、$J$の転置で静力学 | 速度・力の扱いは**別建て**になりがち |\n",
    "| 実装 | $T=\\prod \\exp([\\mathcal{S}_i]\\theta_i)\\,M$ と**一行** | シンボリック変換の**手間**が大きい |\n",
    "| 適用範囲 | 任意構造・並進関節も自然 | 標準的マニピュレータで有効 |\n",
    "> 実務目安：**解析/実装/拡張性重視ならPoE**、規格化された教科書流手順の素早い手計算にはD-Hも有用。\n"
   ]
  },
  {
   "cell_type": "markdown",
   "id": "96364591",
   "metadata": {
    "slideshow": {
     "slide_type": "slide"
    }
   },
   "source": [
    "# 2. 配置空間と自由度（Grüblerの公式）\n",
    "- **配置空間（Configuration Space; C-space）**：ロボットの**最小**パラメータ集合。次元が**自由度（DoF）**。  \n",
    "- **Grüblerの公式**（平面 $m{=}3$、空間 $m{=}6$）：\n",
    "\\[\n",
    "\\mathrm{DoF}= m\\,(N-1-J) + \\sum_{i=1}^{J} f_i\n",
    "\\]\n",
    "- 例：**2R平面アーム**のC空間は $S^1\\times S^1$（トーラス）。**関節空間の直線**は**作業空間では曲線**に写る。\n",
    "\n",
    "> 実務Tip：C空間のトポロジ（周期・拘束）を意識すると、逆運動学やプランニングの**分岐**・**多解**・**連結性**の理解が進みます。\n"
   ]
  },
  {
   "cell_type": "code",
   "execution_count": 1,
   "id": "fcb291da",
   "metadata": {
    "slideshow": {
     "slide_type": "subslide"
    }
   },
   "outputs": [
    {
     "name": "stderr",
     "output_type": "stream",
     "text": [
      "/root/miniconda3/envs/modern_robotics/lib/python3.10/site-packages/IPython/core/pylabtools.py:170: UserWarning: Glyph 12525 (\\N{KATAKANA LETTER RO}) missing from font(s) DejaVu Sans.\n",
      "  fig.canvas.print_figure(bytes_io, **kw)\n",
      "/root/miniconda3/envs/modern_robotics/lib/python3.10/site-packages/IPython/core/pylabtools.py:170: UserWarning: Glyph 12508 (\\N{KATAKANA LETTER BO}) missing from font(s) DejaVu Sans.\n",
      "  fig.canvas.print_figure(bytes_io, **kw)\n",
      "/root/miniconda3/envs/modern_robotics/lib/python3.10/site-packages/IPython/core/pylabtools.py:170: UserWarning: Glyph 12483 (\\N{KATAKANA LETTER SMALL TU}) missing from font(s) DejaVu Sans.\n",
      "  fig.canvas.print_figure(bytes_io, **kw)\n",
      "/root/miniconda3/envs/modern_robotics/lib/python3.10/site-packages/IPython/core/pylabtools.py:170: UserWarning: Glyph 12488 (\\N{KATAKANA LETTER TO}) missing from font(s) DejaVu Sans.\n",
      "  fig.canvas.print_figure(bytes_io, **kw)\n",
      "/root/miniconda3/envs/modern_robotics/lib/python3.10/site-packages/IPython/core/pylabtools.py:170: UserWarning: Glyph 12398 (\\N{HIRAGANA LETTER NO}) missing from font(s) DejaVu Sans.\n",
      "  fig.canvas.print_figure(bytes_io, **kw)\n",
      "/root/miniconda3/envs/modern_robotics/lib/python3.10/site-packages/IPython/core/pylabtools.py:170: UserWarning: Glyph 20316 (\\N{CJK UNIFIED IDEOGRAPH-4F5C}) missing from font(s) DejaVu Sans.\n",
      "  fig.canvas.print_figure(bytes_io, **kw)\n",
      "/root/miniconda3/envs/modern_robotics/lib/python3.10/site-packages/IPython/core/pylabtools.py:170: UserWarning: Glyph 26989 (\\N{CJK UNIFIED IDEOGRAPH-696D}) missing from font(s) DejaVu Sans.\n",
      "  fig.canvas.print_figure(bytes_io, **kw)\n",
      "/root/miniconda3/envs/modern_robotics/lib/python3.10/site-packages/IPython/core/pylabtools.py:170: UserWarning: Glyph 31354 (\\N{CJK UNIFIED IDEOGRAPH-7A7A}) missing from font(s) DejaVu Sans.\n",
      "  fig.canvas.print_figure(bytes_io, **kw)\n",
      "/root/miniconda3/envs/modern_robotics/lib/python3.10/site-packages/IPython/core/pylabtools.py:170: UserWarning: Glyph 38291 (\\N{CJK UNIFIED IDEOGRAPH-9593}) missing from font(s) DejaVu Sans.\n",
      "  fig.canvas.print_figure(bytes_io, **kw)\n",
      "/root/miniconda3/envs/modern_robotics/lib/python3.10/site-packages/IPython/core/pylabtools.py:170: UserWarning: Glyph 65288 (\\N{FULLWIDTH LEFT PARENTHESIS}) missing from font(s) DejaVu Sans.\n",
      "  fig.canvas.print_figure(bytes_io, **kw)\n",
      "/root/miniconda3/envs/modern_robotics/lib/python3.10/site-packages/IPython/core/pylabtools.py:170: UserWarning: Glyph 65289 (\\N{FULLWIDTH RIGHT PARENTHESIS}) missing from font(s) DejaVu Sans.\n",
      "  fig.canvas.print_figure(bytes_io, **kw)\n",
      "/root/miniconda3/envs/modern_robotics/lib/python3.10/site-packages/IPython/core/pylabtools.py:170: UserWarning: Glyph 21040 (\\N{CJK UNIFIED IDEOGRAPH-5230}) missing from font(s) DejaVu Sans.\n",
      "  fig.canvas.print_figure(bytes_io, **kw)\n",
      "/root/miniconda3/envs/modern_robotics/lib/python3.10/site-packages/IPython/core/pylabtools.py:170: UserWarning: Glyph 36948 (\\N{CJK UNIFIED IDEOGRAPH-9054}) missing from font(s) DejaVu Sans.\n",
      "  fig.canvas.print_figure(bytes_io, **kw)\n",
      "/root/miniconda3/envs/modern_robotics/lib/python3.10/site-packages/IPython/core/pylabtools.py:170: UserWarning: Glyph 21487 (\\N{CJK UNIFIED IDEOGRAPH-53EF}) missing from font(s) DejaVu Sans.\n",
      "  fig.canvas.print_figure(bytes_io, **kw)\n",
      "/root/miniconda3/envs/modern_robotics/lib/python3.10/site-packages/IPython/core/pylabtools.py:170: UserWarning: Glyph 33021 (\\N{CJK UNIFIED IDEOGRAPH-80FD}) missing from font(s) DejaVu Sans.\n",
      "  fig.canvas.print_figure(bytes_io, **kw)\n",
      "/root/miniconda3/envs/modern_robotics/lib/python3.10/site-packages/IPython/core/pylabtools.py:170: UserWarning: Glyph 28857 (\\N{CJK UNIFIED IDEOGRAPH-70B9}) missing from font(s) DejaVu Sans.\n",
      "  fig.canvas.print_figure(bytes_io, **kw)\n",
      "/root/miniconda3/envs/modern_robotics/lib/python3.10/site-packages/IPython/core/pylabtools.py:170: UserWarning: Glyph 32676 (\\N{CJK UNIFIED IDEOGRAPH-7FA4}) missing from font(s) DejaVu Sans.\n",
      "  fig.canvas.print_figure(bytes_io, **kw)\n"
     ]
    },
    {
     "data": {
      "image/png": "[encoded data removed]",
      "text/plain": [
       "<Figure size 640x480 with 1 Axes>"
      ]
     },
     "metadata": {},
     "output_type": "display_data"
    }
   ],
   "source": [
    "# 2R平面アームの作業空間（散布図）\n",
    "import numpy as np\n",
    "import matplotlib.pyplot as plt\n",
    "\n",
    "L1, L2 = 1.0, 0.5\n",
    "n = 80\n",
    "t1 = np.linspace(-np.pi, np.pi, n)\n",
    "t2 = np.linspace(-np.pi, np.pi, n)\n",
    "X, Y = [], []\n",
    "for a in t1:\n",
    "    for b in t2:\n",
    "        x = L1*np.cos(a) + L2*np.cos(a+b)\n",
    "        y = L1*np.sin(a) + L2*np.sin(a+b)\n",
    "        X.append(x); Y.append(y)\n",
    "\n",
    "plt.figure()\n",
    "plt.scatter(X, Y, s=2)\n",
    "plt.gca().set_aspect('equal', adjustable='box')\n",
    "plt.title(\"2Rロボットの作業空間（L1=1.0, L2=0.5）\")\n",
    "plt.xlabel(\"x [m]\")\n",
    "plt.ylabel(\"y [m]\")\n",
    "plt.legend([\"到達可能点群\"])\n",
    "plt.show()"
   ]
  },
  {
   "cell_type": "markdown",
   "id": "a1c53de4",
   "metadata": {
    "slideshow": {
     "slide_type": "slide"
    }
   },
   "source": [
    "# 3. 剛体運動とツイスト（$\\mathrm{SE}(3)$）\n",
    "- 同次変換 $T=\\begin{bmatrix}R&p\\\\0&1\\end{bmatrix}\\in \\mathrm{SE}(3)$、$R\\in \\mathrm{SO}(3)$、$p\\in\\mathbb{R}^3$  \n",
    "- ツイスト $\\mathcal{S}=(\\boldsymbol\\omega,\\mathbf{v})$ の**ハット**：\n",
    "\\[\n",
    "\\widehat{\\mathcal{S}}=\\begin{bmatrix}[\\boldsymbol\\omega]_\\times & \\mathbf{v}\\\\ \\mathbf{0}^\\top & 0\\end{bmatrix}\\in \\mathfrak{se}(3)\n",
    "\\]\n",
    "- 指数写像：$T(\\theta)=\\exp(\\widehat{\\mathcal{S}}\\,\\theta)$ は**ねじ運動**（回転＋並進）。  \n",
    "- **随伴（Adjoint）**：フレーム変換でツイスト/レンチを一括変換  \n",
    "  \\[\n",
    "  \\mathrm{Ad}_T=\\begin{bmatrix}R&0\\\\ [p]_\\times R & R\\end{bmatrix},\\quad \\mathcal{S}_\\mathrm{space}=\\mathrm{Ad}_T\\,\\mathcal{S}_\\mathrm{body}\n",
    "  \\]\n",
    "\n",
    "> 覚え方：**回転はRodrigues、剛体はG行列**。$R(\\theta)=I+\\sin\\theta[\\hat\\omega]+(1-\\cos\\theta)[\\hat\\omega]^2$、$p(\\theta)=G(\\theta)\\,v$。\n"
   ]
  },
  {
   "cell_type": "code",
   "execution_count": 2,
   "id": "70e34525",
   "metadata": {
    "slideshow": {
     "slide_type": "subslide"
    }
   },
   "outputs": [
    {
     "data": {
      "text/plain": [
       "array([[ 0.70710678, -0.70710678,  0.        ,  0.14142136],\n",
       "       [ 0.70710678,  0.70710678,  0.        ,  0.05857864],\n",
       "       [ 0.        ,  0.        ,  1.        ,  0.        ],\n",
       "       [ 0.        ,  0.        ,  0.        ,  1.        ]])"
      ]
     },
     "execution_count": 2,
     "metadata": {},
     "output_type": "execute_result"
    }
   ],
   "source": [
    "# SE(3)指数写像のミニ実装（一定スクリューでの微小運動）\n",
    "import numpy as np\n",
    "\n",
    "def skew3(w):\n",
    "    wx, wy, wz = w\n",
    "    return np.array([[0, -wz, wy],\n",
    "                     [wz, 0, -wx],\n",
    "                     [-wy, wx, 0]], dtype=float)\n",
    "\n",
    "def rot_exp(omega_hat, theta):\n",
    "    W = skew3(omega_hat)\n",
    "    return np.eye(3) + np.sin(theta)*W + (1-np.cos(theta))*(W@W)\n",
    "\n",
    "def G_matrix(omega_hat, theta):\n",
    "    W = skew3(omega_hat)\n",
    "    return (np.eye(3)*theta + (1-np.cos(theta))*W + (theta-np.sin(theta))*(W@W))\n",
    "\n",
    "def se3_exp(omega, v, theta):\n",
    "    if np.linalg.norm(omega) < 1e-12:\n",
    "        R = np.eye(3)\n",
    "        p = v * theta\n",
    "    else:\n",
    "        w_hat = omega / np.linalg.norm(omega)\n",
    "        R = rot_exp(w_hat, theta)\n",
    "        p = G_matrix(w_hat, theta) @ v\n",
    "    T = np.eye(4)\n",
    "    T[:3,:3] = R\n",
    "    T[:3, 3] = p\n",
    "    return T\n",
    "\n",
    "omega = np.array([0, 0, 1.0])  # z軸回転\n",
    "v = np.array([0.2, 0.0, 0.0])  # 軸ずれの並進成分\n",
    "theta = np.deg2rad(45)\n",
    "T = se3_exp(omega, v, theta)\n",
    "T"
   ]
  },
  {
   "cell_type": "markdown",
   "id": "056cb82d",
   "metadata": {
    "slideshow": {
     "slide_type": "slide"
    }
   },
   "source": [
    "# 4. 順運動学（PoE）ミニデモ（2R平面）\n",
    "ホーム姿勢 $M$ と**空間スクリュー列** $\\{\\mathcal{S}_1,\\mathcal{S}_2,\\dots\\}$ を用い、\n",
    "\\[\n",
    "T(\\theta)=\\Big(\\prod_i e^{[\\mathcal{S}_i]\\theta_i}\\Big) M\n",
    "\\]\n",
    "で手先姿勢を得ます。\n",
    "\n",
    "> 実務Tip：**空間ヤコビアン/ボディヤコビアン**は、PoEの途中積で簡潔に導出できます（ベクトルの**押し出し/引き戻し**のイメージ）。\n"
   ]
  },
  {
   "cell_type": "code",
   "execution_count": 3,
   "id": "3e567944",
   "metadata": {
    "slideshow": {
     "slide_type": "subslide"
    }
   },
   "outputs": [
    {
     "data": {
      "text/plain": [
       "array([[ 0.98480775, -0.17364818,  0.        ,  1.35842928],\n",
       "       [ 0.17364818,  0.98480775,  0.        ,  0.58682409],\n",
       "       [ 0.        ,  0.        ,  1.        ,  0.        ],\n",
       "       [ 0.        ,  0.        ,  0.        ,  1.        ]])"
      ]
     },
     "execution_count": 3,
     "metadata": {},
     "output_type": "execute_result"
    }
   ],
   "source": [
    "# 2R平面のPoE順運動学（se3_expを再利用）\n",
    "import numpy as np\n",
    "\n",
    "def T_from_planar_rev(L, q):\n",
    "    # 2R: 2つのz回転。関節1の原点は基底原点、関節2は (L1, 0)\n",
    "    L1, L2 = L\n",
    "    M = np.array([[1,0,0, L1+L2],\n",
    "                  [0,1,0, 0],\n",
    "                  [0,0,1, 0],\n",
    "                  [0,0,0, 1]], float)\n",
    "    w1 = np.array([0,0,1.0]); q1 = np.array([0,0,0.0]); v1 = -np.cross(w1, q1)\n",
    "    w2 = np.array([0,0,1.0]); q2 = np.array([L1,0,0.0]); v2 = -np.cross(w2, q2)\n",
    "\n",
    "    def exp_twist(w, v, th):\n",
    "        return se3_exp(w, v, th)\n",
    "\n",
    "    T = exp_twist(w1, v1, q[0]) @ exp_twist(w2, v2, q[1]) @ M\n",
    "    return T\n",
    "\n",
    "L = (1.0, 0.5)\n",
    "q = (np.deg2rad(30), np.deg2rad(-20))\n",
    "T_fk = T_from_planar_rev(L, q)\n",
    "T_fk"
   ]
  },
  {
   "cell_type": "markdown",
   "id": "8f5f2065",
   "metadata": {
    "slideshow": {
     "slide_type": "slide"
    }
   },
   "source": [
    "# 5. ヤコビアンと操作性（2R）\n",
    "- **定義**：$\\mathbf{V} = J(\\boldsymbol\\theta)\\,\\dot{\\boldsymbol\\theta}$（列は**単一関節**のツイスト）  \n",
    "- **空間/ボディヤコビアン**：表現フレームの違いに応じて使い分け、随伴で相互変換  \n",
    "- **マニピュラビリティ**：$JJ^\\top$ の固有値・固有ベクトルが**速度の得意方向/苦手方向**を与える  \n",
    "- **静力学の双対**：$\\boldsymbol\\tau = J^\\top \\mathbf{F}$（速度と力は**双対**）\n",
    "\n",
    "> 実務Tip：**条件数**や**最小特異値**で姿勢の良し悪しを素早く評価。特異点近傍では**減衰擬似逆行列**が安定。\n"
   ]
  },
  {
   "cell_type": "code",
   "execution_count": 4,
   "id": "96aa2dcb",
   "metadata": {
    "slideshow": {
     "slide_type": "subslide"
    }
   },
   "outputs": [
    {
     "ename": "SyntaxError",
     "evalue": "unexpected character after line continuation character (3809599772.py, line 36)",
     "output_type": "error",
     "traceback": [
      "\u001b[0;36m  Cell \u001b[0;32mIn[4], line 36\u001b[0;36m\u001b[0m\n\u001b[0;31m    plot_ellipse(A, ax=ax, label=f\\\"姿勢{i+1}: θ1={np.rad2deg(t1):.0f}°, θ2={np.rad2deg(t2):.0f}°\\\",\u001b[0m\n\u001b[0m                                   ^\u001b[0m\n\u001b[0;31mSyntaxError\u001b[0m\u001b[0;31m:\u001b[0m unexpected character after line continuation character\n"
     ]
    }
   ],
   "source": [
    "# 操作楕円体（単位関節速度球の像）\n",
    "import numpy as np\n",
    "import matplotlib.pyplot as plt\n",
    "\n",
    "def J_2R(L1, L2, t1, t2):\n",
    "    s1, c1 = np.sin(t1), np.cos(t1)\n",
    "    s12, c12 = np.sin(t1+t2), np.cos(t1+t2)\n",
    "    J = np.array([[-L1*s1 - L2*s12,  -L2*s12],\n",
    "                  [ L1*c1 + L2*c12,   L2*c12]], float)\n",
    "    return J\n",
    "\n",
    "def plot_ellipse(A, ax=None, label=\"\", linestyle='-'):\n",
    "    import numpy as np\n",
    "    if ax is None:\n",
    "        fig = plt.figure()\n",
    "        ax = fig.gca()\n",
    "    w, V = np.linalg.eig(A)\n",
    "    t = np.linspace(0, 2*np.pi, 200)\n",
    "    ell = (V @ (np.vstack([np.cos(t)/np.sqrt(w[0]), np.sin(t)/np.sqrt(w[1])]))).T\n",
    "    ax.plot(ell[:,0], ell[:,1], label=label, linestyle=linestyle)\n",
    "    ax.set_aspect('equal', 'box')\n",
    "    return ax\n",
    "\n",
    "L1, L2 = 1.0, 0.5\n",
    "cfgs = [(np.deg2rad(10), np.deg2rad(20)),\n",
    "        (np.deg2rad(90), np.deg2rad(1)),\n",
    "        (np.deg2rad(45), np.deg2rad(90))]\n",
    "linestyles = ['-', '--', '-.']\n",
    "\n",
    "plt.figure(figsize=(7, 5))\n",
    "ax = plt.gca()\n",
    "\n",
    "for i, (t1, t2) in enumerate(cfgs):\n",
    "    J = J_2R(L1, L2, t1, t2)\n",
    "    A = np.linalg.inv(J @ J.T)\n",
    "    plot_ellipse(A, ax=ax, label=f\\\"姿勢{i+1}: θ1={np.rad2deg(t1):.0f}°, θ2={np.rad2deg(t2):.0f}°\\\", \n",
    "                 linestyle=linestyles[i])\n",
    "\n",
    "plt.title(\"2Rの操作楕円体（単位関節速度球の像）\")\n",
    "plt.xlabel(\"v_x [m/s]\"); plt.ylabel(\"v_y [m/s]\")\n",
    "plt.legend()\n",
    "plt.grid(True, alpha=0.3)\n",
    "plt.axis('equal')\n",
    "plt.tight_layout()\n",
    "plt.show()"
   ]
  },
  {
   "cell_type": "markdown",
   "id": "f17ffc80",
   "metadata": {
    "slideshow": {
     "slide_type": "slide"
    }
   },
   "source": [
    "# 6. 逆運動学（2R；Newton–Raphson）\n",
    "目標 $\\mathbf{p}_d$ に対し、反復\n",
    "\\[\n",
    "\\boldsymbol\\theta_{k+1}=\\boldsymbol\\theta_k + J(\\boldsymbol\\theta_k)^\\dagger\\,(\\mathbf{p}_d-\\mathbf{p}(\\boldsymbol\\theta_k))\n",
    "\\]\n",
    "で収束させる。**停止条件**（誤差・反復回数・角度変化）と**減衰（Levenberg–Marquardt）**が実務の肝。\n",
    "\n",
    "> 実務Tip：良い初期値、関節制限の投影、冗長系では**ヌル空間**で二次目的（姿勢・障害物回避）を最適化。\n"
   ]
  },
  {
   "cell_type": "code",
   "execution_count": null,
   "id": "9b6fe4af",
   "metadata": {
    "slideshow": {
     "slide_type": "subslide"
    }
   },
   "outputs": [],
   "source": [
    "# Newton-Raphson法で2R逆運動学\n",
    "import numpy as np\n",
    "import matplotlib.pyplot as plt\n",
    "\n",
    "def J_2R(L1, L2, t1, t2):\n",
    "    s1, c1 = np.sin(t1), np.cos(t1)\n",
    "    s12, c12 = np.sin(t1+t2), np.cos(t1+t2)\n",
    "    J = np.array([[-L1*s1 - L2*s12,  -L2*s12],\n",
    "                  [ L1*c1 + L2*c12,   L2*c12]], float)\n",
    "    return J\n",
    "\n",
    "def fk_xy(L1, L2, t1, t2):\n",
    "    x = L1*np.cos(t1) + L2*np.cos(t1+t2)\n",
    "    y = L1*np.sin(t1) + L2*np.sin(t1+t2)\n",
    "    return np.array([x,y])\n",
    "\n",
    "def ik_2r(L1, L2, p_des, th0=(0.0,0.0), iters=50, tol=1e-8, lam=0.0):\n",
    "    th = np.array(th0, float)\n",
    "    hist = [fk_xy(L1,L2,*th)]\n",
    "    for k in range(iters):\n",
    "        p = fk_xy(L1,L2,*th)\n",
    "        e = p_des - p\n",
    "        if np.linalg.norm(e) < tol:\n",
    "            break\n",
    "        J = J_2R(L1,L2,*th)\n",
    "        # 減衰付き擬似逆（LM風）\n",
    "        th += (J.T @ np.linalg.inv(J @ J.T + lam*np.eye(2))) @ e\n",
    "        hist.append(fk_xy(L1,L2,*th))\n",
    "    return th, np.array(hist)\n",
    "\n",
    "L1, L2 = 1.0, 0.5\n",
    "p_des = np.array([1.2, 0.1])\n",
    "sol, traj = ik_2r(L1,L2,p_des, th0=(np.deg2rad(20), np.deg2rad(10)), lam=1e-4)\n",
    "plt.figure()\n",
    "plt.plot(traj[:,0], traj[:,1], marker='o', ms=3)\n",
    "plt.scatter([p_des[0]],[p_des[1]])\n",
    "plt.gca().set_aspect('equal','box')\n",
    "plt.title(\"2R逆運動学の収束軌跡（目標点へ）\")\n",
    "plt.xlabel(\"x [m]\"); plt.ylabel(\"y [m]\")\n",
    "plt.legend([\"反復の足跡\",\"目標点\"])\n",
    "plt.grid(True, alpha=0.3)\n",
    "plt.show()\n",
    "print(\"解（ラジアン）:\", sol)"
   ]
  },
  {
   "cell_type": "markdown",
   "id": "a3d2aa7b",
   "metadata": {
    "slideshow": {
     "slide_type": "slide"
    }
   },
   "source": [
    "# 7. ダイナミクス概観と **Feedforward + PI**\n",
    "- 速度制御では**Pのみは定常偏差**が残りやすい → **PI**で除去  \n",
    "- 参照ツイスト $V_d$ を**フィードフォワード**、残差は**PI**で修正  \n",
    "- 2次誤差系の減衰設計：\n",
    "\\[\n",
    "\\ddot e + K_p \\dot e + K_i e = 0,\\qquad \\text{臨界減衰目安 } K_i=\\frac{K_p^2}{4}\n",
    "\\]\n",
    "> 実務Tip：**積分飽和**に注意（アンチワインドアップ）。外乱が大きいときは**PI in task space**で頑健。\n"
   ]
  },
  {
   "cell_type": "code",
   "execution_count": null,
   "id": "ebd67c1d",
   "metadata": {
    "slideshow": {
     "slide_type": "subslide"
    }
   },
   "outputs": [],
   "source": [
    "# 単純PI型の誤差応答（オイラー近似）\n",
    "import numpy as np\n",
    "import matplotlib.pyplot as plt\n",
    "\n",
    "dt = 0.001\n",
    "T = 2.0\n",
    "N = int(T/dt)\n",
    "\n",
    "def simulate(Kp, Ki):\n",
    "    e = 1.0   # 初期誤差\n",
    "    ed = 0.0\n",
    "    E = [e]\n",
    "    for k in range(N):\n",
    "        edd = -Kp*ed - Ki*e\n",
    "        ed += edd*dt\n",
    "        e  += ed*dt\n",
    "        E.append(e)\n",
    "    return np.linspace(0,T,N+1), np.array(E)\n",
    "\n",
    "t1, E1 = simulate(4.0, 4.0)   # 臨界減衰近傍\n",
    "t2, E2 = simulate(4.0, 0.5)   # 過減衰気味\n",
    "t3, E3 = simulate(4.0, 8.0)   # 低減衰（振動）\n",
    "\n",
    "plt.figure()\n",
    "plt.plot(t1, E1, label=\"臨界減衰\")\n",
    "plt.plot(t2, E2, label=\"過減衰\")\n",
    "plt.plot(t3, E3, label=\"低減衰\")\n",
    "plt.title(\"PI誤差応答：減衰特性の比較\")\n",
    "plt.xlabel(\"時間 [s]\"); plt.ylabel(\"誤差 e(t)\")\n",
    "plt.legend()\n",
    "plt.grid(True, alpha=0.3)\n",
    "plt.show()"
   ]
  },
  {
   "cell_type": "markdown",
   "id": "abbb93f2",
   "metadata": {
    "slideshow": {
     "slide_type": "slide"
    }
   },
   "source": [
    "# 8. 軌道生成：**パス** + **時間スケーリング**\n",
    "- **分離設計**：パス（幾何）とクロック $s(t)$  \n",
    "- **3次 vs 5次**：速度/加速度の滑らかさ（5次は速度・加速度0境界を満たす）  \n",
    "- 実機では**台形/S字速度**や**ジャーク制限**を併用（ギア/ベルト保護・快適性）\n"
   ]
  },
  {
   "cell_type": "code",
   "execution_count": null,
   "id": "9244dac6",
   "metadata": {
    "slideshow": {
     "slide_type": "subslide"
    }
   },
   "outputs": [],
   "source": [
    "# 3次・5次 時間スケーリング比較\n",
    "import numpy as np\n",
    "import matplotlib.pyplot as plt\n",
    "\n",
    "t = np.linspace(0, 1, 301)\n",
    "\n",
    "# 3次（cubic）： 3t^2 - 2t^3\n",
    "s3  = 3*t**2 - 2*t**3\n",
    "ds3 = np.gradient(s3, t)\n",
    "dds3= np.gradient(ds3, t)\n",
    "\n",
    "# 5次（quintic）： 10t^3 - 15t^4 + 6t^5\n",
    "s5  = 10*t**3 - 15*t**4 + 6*t**5\n",
    "ds5 = np.gradient(s5, t)\n",
    "dds5= np.gradient(ds5, t)\n",
    "\n",
    "plt.figure(); plt.plot(t, s3, label=\"3次\"); plt.plot(t, s5, label=\"5次\")\n",
    "plt.title(\"時間スケーリング：進行度 s(t)\"); plt.xlabel(\"正規化時間 t\"); plt.ylabel(\"s(t)\"); plt.legend(); plt.grid(True, alpha=0.3); plt.show()\n",
    "plt.figure(); plt.plot(t, ds3, label=\"3次\"); plt.plot(t, ds5, label=\"5次\")\n",
    "plt.title(\"時間スケーリング：速度 ds/dt\"); plt.xlabel(\"正規化時間 t\"); plt.ylabel(\"ds/dt\"); plt.legend(); plt.grid(True, alpha=0.3); plt.show()\n",
    "plt.figure(); plt.plot(t, dds3, label=\"3次\"); plt.plot(t, dds5, label=\"5次\")\n",
    "plt.title(\"時間スケーリング：加速度 d2s/dt2\"); plt.xlabel(\"正規化時間 t\"); plt.ylabel(\"d2s/dt2\"); plt.legend(); plt.grid(True, alpha=0.3); plt.show()"
   ]
  },
  {
   "cell_type": "markdown",
   "id": "0a46668e",
   "metadata": {
    "slideshow": {
     "slide_type": "slide"
    }
   },
   "source": [
    "# 9. 動作計画（C空間）\n",
    "- ロボットを**点**に、障害物を**C障害物**に写像 → 衝突判定が容易  \n",
    "- 4系統の代表手法：  \n",
    "  1) **グリッド**（A*等：決定論・最短経路だが高次元に弱い）  \n",
    "  2) **サンプリング**（PRM/RRT：高次元に強い・確率的完全性）  \n",
    "  3) **ポテンシャル**（軽量だが局所極小）  \n",
    "  4) **最適化**（CHOMP/TrajOpt：滑らかさ・コスト最小）  \n",
    "- 実務では組合せ：サンプリングで初期解→最適化で**平滑化/マージン付与**。\n"
   ]
  },
  {
   "cell_type": "markdown",
   "id": "a7483c0d",
   "metadata": {
    "slideshow": {
     "slide_type": "slide"
    }
   },
   "source": [
    "# 10. マニピュレーション：摩擦円錐とレンチ\n",
    "- クーロン摩擦：$\\|f_t\\|\\le \\mu f_n$ → 半角 $\\alpha=\\tan^{-1}\\mu$ の**摩擦円錐**  \n",
    "- 接触の**レンチ**（力＋モーメント）を集め、**正スパン**が空間を覆えば**力閉包（Force Closure）**  \n",
    "- 判定は線形計画/凸包で実装可能（2Dなら視覚的に把握しやすい）。\n"
   ]
  },
  {
   "cell_type": "code",
   "execution_count": null,
   "id": "aff2c199",
   "metadata": {
    "slideshow": {
     "slide_type": "subslide"
    }
   },
   "outputs": [],
   "source": [
    "# 摩擦円錐（2D簡略）\n",
    "import numpy as np\n",
    "import matplotlib.pyplot as plt\n",
    "\n",
    "mu = 0.5\n",
    "alpha = np.arctan(mu)\n",
    "n = np.array([0,1])\n",
    "\n",
    "dir1 = np.array([ np.sin(alpha), np.cos(alpha)])\n",
    "dir2 = np.array([-np.sin(alpha), np.cos(alpha)])\n",
    "\n",
    "t = np.linspace(0, 1.0, 50)\n",
    "r1 = np.outer(t, dir1)\n",
    "r2 = np.outer(t, dir2)\n",
    "\n",
    "plt.figure()\n",
    "plt.plot(r1[:,0], r1[:,1], label=\"稜線1\")\n",
    "plt.plot(r2[:,0], r2[:,1], label=\"稜線2\")\n",
    "plt.axvline(0, linestyle=\"--\")\n",
    "plt.title(\"摩擦円錐（平面近似；μ=0.5）\")\n",
    "plt.xlabel(\"接線方向 f_t\"); plt.ylabel(\"法線方向 f_n\")\n",
    "plt.legend()\n",
    "plt.gca().set_aspect('equal','box')\n",
    "plt.grid(True, alpha=0.3)\n",
    "plt.show()"
   ]
  },
  {
   "cell_type": "markdown",
   "id": "639b21be",
   "metadata": {
    "slideshow": {
     "slide_type": "slide"
    }
   },
   "source": [
    "# 11. 車輪移動：差動駆動の可到達速度集合（$v$-$\\omega$）\n",
    "車輪速度制限 $|\\dot\\theta_L|,|\\dot\\theta_R|\\le \\dot\\theta_{\\max}$ より、\n",
    "\\[\n",
    "v=\\tfrac{r}{2}(\\dot\\theta_R+\\dot\\theta_L),\\quad \n",
    "\\omega=\\tfrac{r}{2d}(\\dot\\theta_R-\\dot\\theta_L)\n",
    "\\]\n",
    "→ $(v,\\omega)$は**ひし形**（正方形の線形写像）。**台形速度制限**や**摩擦限界**を含めると多面体に拡張。\n",
    "\n",
    "> 実務Tip：可到達速度領域をプロファイル制約として**オンライン**に使うと、**安全で飽和しない**速度制御が実現します。\n"
   ]
  },
  {
   "cell_type": "code",
   "execution_count": null,
   "id": "9542e283",
   "metadata": {
    "slideshow": {
     "slide_type": "subslide"
    }
   },
   "outputs": [],
   "source": [
    "# 差動駆動の可到達速度集合（v-ω）\n",
    "import numpy as np\n",
    "import matplotlib.pyplot as plt\n",
    "\n",
    "r = 0.05    # 車輪半径\n",
    "d = 0.20    # 半トレッド\n",
    "wmax = 12.0 # [rad/s]\n",
    "\n",
    "verts_wr = np.array([[-wmax,-wmax], [-wmax, wmax], [wmax, wmax], [wmax,-wmax], [-wmax,-wmax]])\n",
    "def map_to_vw(wL, wR):\n",
    "    v = r*0.5*(wR + wL)\n",
    "    w = r/(2*d)*(wR - wL)\n",
    "    return np.array([v, w])\n",
    "\n",
    "poly = np.vstack([map_to_vw(wL, wR) for (wL, wR) in verts_wr])\n",
    "\n",
    "plt.figure()\n",
    "plt.plot(poly[:,0], poly[:,1])\n",
    "plt.title(\"差動駆動の可到達速度集合（v-ωのひし形領域）\")\n",
    "plt.xlabel(\"並進速度 v [m/s]\"); plt.ylabel(\"角速度 ω [rad/s]\")\n",
    "plt.grid(True, alpha=0.3)\n",
    "plt.show()"
   ]
  },
  {
   "cell_type": "markdown",
   "id": "8d9f2b95",
   "metadata": {
    "slideshow": {
     "slide_type": "slide"
    }
   },
   "source": [
    "# 12. Capstone統合（youBot）— 実装ロードマップ\n",
    "- **Milestone 1**：メカナム運動学 + $SE(3)$指数で姿勢更新  \n",
    "- **Milestone 2**：8セグメント参照軌道（5次スケーリング）  \n",
    "- **Milestone 3**：フィードフォワード + ヤコビアン擬似逆  \n",
    "- **Milestone 4**：タスク空間 **PI**（必要なら**積分飽和対策**）\n",
    "\n",
    "> 重要：**フィードフォワードが主役**、**PIは残差の清掃係**。実装は *NextState* → *Trajectory* → *Control* の順で段階的に。\n"
   ]
  },
  {
   "cell_type": "code",
   "execution_count": null,
   "id": "2f22980c",
   "metadata": {
    "slideshow": {
     "slide_type": "subslide"
    }
   },
   "outputs": [],
   "source": [
    "# （任意）日本語フォントやModern Roboticsライブラリが無い環境向けのインストール例\n",
    "# !pip install japanize-matplotlib modern-robotics ipywidgets"
   ]
  }
 ],
 "metadata": {
  "celltoolbar": "Slideshow",
  "kernelspec": {
   "display_name": "Python 3 (ipykernel)",
   "language": "python",
   "name": "python3"
  },
  "language_info": {
   "codemirror_mode": {
    "name": "ipython",
    "version": 3
   },
   "file_extension": ".py",
   "mimetype": "text/x-python",
   "name": "python",
   "nbconvert_exporter": "python",
   "pygments_lexer": "ipython3",
   "version": "3.10.18"
  }
 },
 "nbformat": 4,
 "nbformat_minor": 5
}
